{
  "nbformat": 4,
  "nbformat_minor": 0,
  "metadata": {
    "colab": {
      "provenance": []
    },
    "kernelspec": {
      "name": "python3",
      "display_name": "Python 3"
    },
    "language_info": {
      "name": "python"
    }
  },
  "cells": [
    {
      "cell_type": "code",
      "execution_count": 1,
      "metadata": {
        "colab": {
          "base_uri": "https://localhost:8080/"
        },
        "id": "JkCbMKM-X6-A",
        "outputId": "96a22eea-e8ec-41ce-ffbc-381c8be359af"
      },
      "outputs": [
        {
          "output_type": "stream",
          "name": "stdout",
          "text": [
            "Model: \"sequential\"\n",
            "_________________________________________________________________\n",
            " Layer (type)                Output Shape              Param #   \n",
            "=================================================================\n",
            " embedding (Embedding)       (None, 20, 16)            160000    \n",
            "                                                                 \n",
            " conv1d (Conv1D)             (None, 16, 128)           10368     \n",
            "                                                                 \n",
            " global_max_pooling1d (Glob  (None, 128)               0         \n",
            " alMaxPooling1D)                                                 \n",
            "                                                                 \n",
            " dense (Dense)               (None, 64)                8256      \n",
            "                                                                 \n",
            " dropout (Dropout)           (None, 64)                0         \n",
            "                                                                 \n",
            " dense_1 (Dense)             (None, 1)                 65        \n",
            "                                                                 \n",
            "=================================================================\n",
            "Total params: 178689 (698.00 KB)\n",
            "Trainable params: 178689 (698.00 KB)\n",
            "Non-trainable params: 0 (0.00 Byte)\n",
            "_________________________________________________________________\n",
            "Epoch 1/5\n",
            "1/1 [==============================] - 2s 2s/step - loss: 0.6933 - accuracy: 0.3333 - val_loss: 0.6955 - val_accuracy: 0.0000e+00\n",
            "Epoch 2/5\n",
            "1/1 [==============================] - 0s 55ms/step - loss: 0.6921 - accuracy: 0.6667 - val_loss: 0.7021 - val_accuracy: 0.0000e+00\n",
            "Epoch 3/5\n",
            "1/1 [==============================] - 0s 73ms/step - loss: 0.6790 - accuracy: 0.6667 - val_loss: 0.7104 - val_accuracy: 0.0000e+00\n",
            "Epoch 4/5\n",
            "1/1 [==============================] - 0s 52ms/step - loss: 0.6721 - accuracy: 0.6667 - val_loss: 0.7182 - val_accuracy: 0.0000e+00\n",
            "Epoch 5/5\n",
            "1/1 [==============================] - 0s 54ms/step - loss: 0.6599 - accuracy: 0.6667 - val_loss: 0.7250 - val_accuracy: 0.0000e+00\n",
            "1/1 [==============================] - 0s 135ms/step\n",
            "Teks: Teks ini sangat bagus! - Sentimen: positif\n",
            "Teks: Saya tidak suka tugas ini. - Sentimen: positif\n"
          ]
        }
      ],
      "source": [
        "import numpy as np\n",
        "import tensorflow as tf\n",
        "from tensorflow.keras.preprocessing.text import Tokenizer\n",
        "from tensorflow.keras.preprocessing.sequence import pad_sequences\n",
        "from tensorflow.keras.models import Sequential\n",
        "from tensorflow.keras.layers import Embedding, Conv1D, GlobalMaxPooling1D, Dense, Dropout\n",
        "\n",
        "# Contoh data teks\n",
        "texts = [\"Ini adalah teks positif.\",\n",
        "         \"Teks ini memiliki sentimen negatif.\",\n",
        "         \"Saya suka belajar tentang deep learning.\",\n",
        "         \"Tugas ini sangat sulit dan membingungkan.\"]\n",
        "\n",
        "labels = [1, 0, 1, 0]  # 1 untuk positif, 0 untuk negatif\n",
        "\n",
        "# Tokenisasi dan padding teks\n",
        "tokenizer = Tokenizer(num_words=10000, oov_token=\"<OOV>\")\n",
        "tokenizer.fit_on_texts(texts)\n",
        "sequences = tokenizer.texts_to_sequences(texts)\n",
        "padded_sequences = pad_sequences(sequences, maxlen=20, padding=\"post\", truncating=\"post\")\n",
        "\n",
        "# Membangun model CNN\n",
        "model = Sequential()\n",
        "model.add(Embedding(input_dim=10000, output_dim=16, input_length=20))\n",
        "model.add(Conv1D(filters=128, kernel_size=5, activation=\"relu\"))\n",
        "model.add(GlobalMaxPooling1D())\n",
        "model.add(Dense(64, activation=\"relu\"))\n",
        "model.add(Dropout(0.5))\n",
        "model.add(Dense(1, activation=\"sigmoid\"))\n",
        "\n",
        "model.compile(optimizer=\"adam\", loss=\"binary_crossentropy\", metrics=[\"accuracy\"])\n",
        "model.summary()\n",
        "\n",
        "# Melatih model\n",
        "model.fit(padded_sequences, np.array(labels), epochs=5, validation_split=0.2)\n",
        "\n",
        "# Prediksi\n",
        "new_texts = [\"Teks ini sangat bagus!\", \"Saya tidak suka tugas ini.\"]\n",
        "new_sequences = tokenizer.texts_to_sequences(new_texts)\n",
        "new_padded_sequences = pad_sequences(new_sequences, maxlen=20, padding=\"post\", truncating=\"post\")\n",
        "predictions = model.predict(new_padded_sequences)\n",
        "\n",
        "for i, text in enumerate(new_texts):\n",
        "    sentiment = \"positif\" if predictions[i] > 0.5 else \"negatif\"\n",
        "    print(f\"Teks: {text} - Sentimen: {sentiment}\")\n"
      ]
    }
  ]
}